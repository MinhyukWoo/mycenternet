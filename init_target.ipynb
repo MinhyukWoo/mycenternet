{
 "cells": [
  {
   "cell_type": "markdown",
   "metadata": {},
   "source": [
    "Annotation으로부터 라벨 값을 전처리하는 코드는 이미 준비됨   \n",
    "문제는 병렬처리   \n",
    "파이썬 병렬처러를 위한 학습 진행중   "
   ]
  },
  {
   "cell_type": "code",
   "execution_count": 2,
   "metadata": {},
   "outputs": [
    {
     "name": "stdout",
     "output_type": "stream",
     "text": [
      "11540\n"
     ]
    },
    {
     "data": {
      "text/plain": [
       "['2008_000002', '2008_000003', '2008_000007', '2008_000008', '2008_000009']"
      ]
     },
     "execution_count": 2,
     "metadata": {},
     "output_type": "execute_result"
    }
   ],
   "source": [
    "TRAINVAL_TXT = \"dataset/VOCdevkit/VOC2012/ImageSets/Main/trainval.txt\"\n",
    "\n",
    "def get_filenames(txt_path):\n",
    "    with open(txt_path, \"r\") as file:\n",
    "        return [line.replace(\"\\n\", \"\") for line in file.readlines()]\n",
    "\n",
    "\n",
    "filenames = get_filenames(TRAINVAL_TXT)\n",
    "print(len(filenames))\n",
    "filenames[:5]\n"
   ]
  },
  {
   "cell_type": "code",
   "execution_count": 3,
   "metadata": {},
   "outputs": [
    {
     "data": {
      "text/plain": [
       "['dataset/VOCdevkit/VOC2012/Annotations/2008_000002.xml',\n",
       " 'dataset/VOCdevkit/VOC2012/Annotations/2008_000003.xml',\n",
       " 'dataset/VOCdevkit/VOC2012/Annotations/2008_000007.xml',\n",
       " 'dataset/VOCdevkit/VOC2012/Annotations/2008_000008.xml',\n",
       " 'dataset/VOCdevkit/VOC2012/Annotations/2008_000009.xml']"
      ]
     },
     "execution_count": 3,
     "metadata": {},
     "output_type": "execute_result"
    }
   ],
   "source": [
    "ANNOTATION_DIR = \"dataset/VOCdevkit/VOC2012/Annotations\"\n",
    "import os\n",
    "\n",
    "label_paths = [\n",
    "    os.path.join(ANNOTATION_DIR, name + \".xml\") for name in filenames\n",
    "]\n",
    "label_paths[:5]\n"
   ]
  },
  {
   "cell_type": "code",
   "execution_count": null,
   "metadata": {},
   "outputs": [],
   "source": [
    "from PIL import Image\n",
    "import numpy as np\n",
    "from parse_annotation import get_label\n",
    "\n",
    "IMAGE_SIZE = (512, 512)\n",
    "TARGET_DIR = os.path.join(os.curdir, \"dataset\", \"VOCdevkit\", \"VOC2012\", \"targets\")\n",
    "import asyncio\n",
    "from tqdm.asyncio import tqdm\n",
    "\n",
    "async def save_target(filename, label_path):\n",
    "    np.save(\n",
    "        os.path.join(TARGET_DIR, filename + \".npy\"),\n",
    "        get_label(label_path, IMAGE_SIZE),\n",
    "    )\n",
    "\n",
    "\n",
    "def init_target():\n",
    "    tasks = {\n",
    "        asyncio.create_task(save_target(filename, label_path))\n",
    "        for filename, label_path in zip(filenames, label_paths)\n",
    "    }\n",
    "    pbar = tqdm.tqdm(total=len(tasks))\n",
    "    for task in asyncio.as_completed(tasks):\n",
    "        value = task\n",
    "        pbar.set_description(value)\n",
    "        pbar.update()\n",
    "\n",
    "\n",
    "asyncio.run(init_target())\n"
   ]
  },
  {
   "cell_type": "code",
   "execution_count": 5,
   "metadata": {},
   "outputs": [
    {
     "data": {
      "text/plain": [
       "997"
      ]
     },
     "execution_count": 5,
     "metadata": {},
     "output_type": "execute_result"
    }
   ],
   "source": [
    "len(os.listdir(TARGET_DIR))"
   ]
  }
 ],
 "metadata": {
  "kernelspec": {
   "display_name": "Python 3.9.13 ('keras')",
   "language": "python",
   "name": "python3"
  },
  "language_info": {
   "codemirror_mode": {
    "name": "ipython",
    "version": 3
   },
   "file_extension": ".py",
   "mimetype": "text/x-python",
   "name": "python",
   "nbconvert_exporter": "python",
   "pygments_lexer": "ipython3",
   "version": "3.9.13"
  },
  "orig_nbformat": 4,
  "vscode": {
   "interpreter": {
    "hash": "1adc45b2727d29ffe2ebdf1744bac2997f1014da1e47286e1a4198fcda79fd8a"
   }
  }
 },
 "nbformat": 4,
 "nbformat_minor": 2
}
